{
  "nbformat": 4,
  "nbformat_minor": 0,
  "metadata": {
    "colab": {
      "name": "Test_Data.ipynb",
      "provenance": [],
      "authorship_tag": "ABX9TyPGYvvctckqk2wH74l8ISiy",
      "include_colab_link": true
    },
    "kernelspec": {
      "name": "python3",
      "display_name": "Python 3"
    }
  },
  "cells": [
    {
      "cell_type": "markdown",
      "metadata": {
        "id": "view-in-github",
        "colab_type": "text"
      },
      "source": [
        "<a href=\"https://colab.research.google.com/github/rddaz2013/npTDMS/blob/master/datatest/Test_Data.ipynb\" target=\"_parent\"><img src=\"https://colab.research.google.com/assets/colab-badge.svg\" alt=\"Open In Colab\"/></a>"
      ]
    },
    {
      "cell_type": "code",
      "metadata": {
        "id": "G9p8mkUSU1nf",
        "colab_type": "code",
        "colab": {
          "base_uri": "https://localhost:8080/",
          "height": 346
        },
        "outputId": "f672b2eb-48ab-42c8-f014-9344f618c2af"
      },
      "source": [
        "!pip install npTDMS[hdf,pandas,thermocouple_scaling]"
      ],
      "execution_count": null,
      "outputs": [
        {
          "output_type": "stream",
          "text": [
            "Requirement already satisfied: npTDMS[hdf,pandas,thermocouple_scaling] in /usr/local/lib/python3.6/dist-packages (0.27.0)\n",
            "Requirement already satisfied: numpy in /usr/local/lib/python3.6/dist-packages (from npTDMS[hdf,pandas,thermocouple_scaling]) (1.18.5)\n",
            "Requirement already satisfied: h5py>=2.10.0; extra == \"hdf\" in /usr/local/lib/python3.6/dist-packages (from npTDMS[hdf,pandas,thermocouple_scaling]) (2.10.0)\n",
            "Requirement already satisfied: pandas; extra == \"pandas\" in /usr/local/lib/python3.6/dist-packages (from npTDMS[hdf,pandas,thermocouple_scaling]) (1.0.5)\n",
            "Requirement already satisfied: scipy; extra == \"thermocouple_scaling\" in /usr/local/lib/python3.6/dist-packages (from npTDMS[hdf,pandas,thermocouple_scaling]) (1.4.1)\n",
            "Collecting thermocouples-reference; extra == \"thermocouple_scaling\"\n",
            "  Downloading https://files.pythonhosted.org/packages/f9/38/4baa55697a347878f540ac1189e70ae40f8878dc400d526232c6ab779d6a/thermocouples_reference-0.20.tar.gz\n",
            "Requirement already satisfied: six in /usr/local/lib/python3.6/dist-packages (from h5py>=2.10.0; extra == \"hdf\"->npTDMS[hdf,pandas,thermocouple_scaling]) (1.15.0)\n",
            "Requirement already satisfied: python-dateutil>=2.6.1 in /usr/local/lib/python3.6/dist-packages (from pandas; extra == \"pandas\"->npTDMS[hdf,pandas,thermocouple_scaling]) (2.8.1)\n",
            "Requirement already satisfied: pytz>=2017.2 in /usr/local/lib/python3.6/dist-packages (from pandas; extra == \"pandas\"->npTDMS[hdf,pandas,thermocouple_scaling]) (2018.9)\n",
            "Building wheels for collected packages: thermocouples-reference\n",
            "  Building wheel for thermocouples-reference (setup.py) ... \u001b[?25l\u001b[?25hdone\n",
            "  Created wheel for thermocouples-reference: filename=thermocouples_reference-0.20-cp36-none-any.whl size=19568 sha256=99465e6338940cf8368eaf28f7c98d267840015a58071a5545739cfd80c54e7d\n",
            "  Stored in directory: /root/.cache/pip/wheels/ce/df/31/be4b6de10f12f4b69bdb04e2f6321b9a2c1301f03dcd4f5b42\n",
            "Successfully built thermocouples-reference\n",
            "Installing collected packages: thermocouples-reference\n",
            "Successfully installed thermocouples-reference-0.20\n"
          ],
          "name": "stdout"
        }
      ]
    },
    {
      "cell_type": "code",
      "metadata": {
        "id": "ah_bLBUuVGFP",
        "colab_type": "code",
        "colab": {
          "base_uri": "https://localhost:8080/",
          "height": 34
        },
        "outputId": "d004f61d-5da7-4e72-a1cd-18410300cd2e"
      },
      "source": [
        "!git clone https://github.com/rddaz2013/npTDMS.git"
      ],
      "execution_count": 4,
      "outputs": [
        {
          "output_type": "stream",
          "text": [
            "fatal: destination path 'npTDMS' already exists and is not an empty directory.\n"
          ],
          "name": "stdout"
        }
      ]
    },
    {
      "cell_type": "code",
      "metadata": {
        "id": "uKybMHE0V1Uc",
        "colab_type": "code",
        "colab": {}
      },
      "source": [
        "import numpy as np\n",
        "import matplotlib.mlab as mlab\n",
        "import matplotlib.pyplot as plt\n",
        "from scipy import signal\n",
        "from matplotlib.dates import DateFormatter\n",
        "from scipy import fftpack\n",
        "from scipy.signal import filtfilt, butter, buttord\n",
        "\n",
        "import seaborn as sns\n",
        "sns.set_style('white')\n",
        "sns.set_style('ticks')\n",
        "sns.set_context('notebook', font_scale=1.3, rc={'lines.linewidth': 3.0})\n",
        "import numpy as np\n",
        "\n",
        "plt.rcParams['figure.figsize'] = (10,10/1.6)\n",
        "\n",
        "# Einlesen der tdms Datei\n",
        "# Wichtig wegen der Speicherung der Gruppen und der Zeitachse kann es nicht direkt als Dataframe in\n",
        "# pandas geladen werden\n",
        "from nptdms import TdmsFile\n",
        "tdms_file = TdmsFile(\"./npTDMS/datatest/Versuch 05 - 161.tdms\")"
      ],
      "execution_count": 6,
      "outputs": []
    },
    {
      "cell_type": "code",
      "metadata": {
        "id": "R2KKdqHLW0xr",
        "colab_type": "code",
        "colab": {
          "base_uri": "https://localhost:8080/",
          "height": 34
        },
        "outputId": "6b0693e7-4d5a-4e10-cdb5-05df3061e407"
      },
      "source": [
        "# Iterate over all items in the properties dictionary and print them\n",
        "for name, value in tdms_file.properties.items():\n",
        "    print(\"{0}: {1}\".format(name, value))\n",
        "# Get a single property value"
      ],
      "execution_count": 7,
      "outputs": [
        {
          "output_type": "stream",
          "text": [
            "name: Versuch 05 - 161\n"
          ],
          "name": "stdout"
        }
      ]
    },
    {
      "cell_type": "code",
      "metadata": {
        "id": "yz2P8QqJXEzH",
        "colab_type": "code",
        "colab": {
          "base_uri": "https://localhost:8080/",
          "height": 101
        },
        "outputId": "427c3336-0e25-4c4a-81f2-645d7ce27956"
      },
      "source": [
        "gf1 = (tdms_file.groups()[0])\n",
        "for dummy in tdms_file[gf1.name].channels():\n",
        "    print (dummy)"
      ],
      "execution_count": 8,
      "outputs": [
        {
          "output_type": "stream",
          "text": [
            "<TdmsChannel with path /'_unnamedTask<3>'/'Dev1/ai0'>\n",
            "<TdmsChannel with path /'_unnamedTask<3>'/'Dev1/ai1'>\n",
            "<TdmsChannel with path /'_unnamedTask<3>'/'Dev1/ai2'>\n",
            "<TdmsChannel with path /'_unnamedTask<3>'/'Dev1/ai3'>\n",
            "<TdmsChannel with path /'_unnamedTask<3>'/'Dev1/ai4'>\n"
          ],
          "name": "stdout"
        }
      ]
    },
    {
      "cell_type": "code",
      "metadata": {
        "id": "oximmeQGXNqk",
        "colab_type": "code",
        "colab": {}
      },
      "source": [
        "all_groups=tdms_file[gf1.name].channels()\n",
        "\n",
        "#channel = all_groups[0] # temperature slow\n",
        "channel = all_groups[3] # pressure fast\n",
        "\n",
        "timestamp = channel.properties['wf_start_time']\n",
        "timestep = channel.properties['wf_increment']\n",
        "\n",
        "time_array = np.arange(start=0, stop=np.size(channel))\n",
        "time_array=time_array*timestep\n",
        "channel_data = channel.data"
      ],
      "execution_count": 11,
      "outputs": []
    },
    {
      "cell_type": "code",
      "metadata": {
        "id": "HXcz04E9Xq2n",
        "colab_type": "code",
        "colab": {
          "base_uri": "https://localhost:8080/",
          "height": 370
        },
        "outputId": "73ffc1f1-a6d6-4ce8-bd86-8438d1fbda0f"
      },
      "source": [
        "channel.properties"
      ],
      "execution_count": 13,
      "outputs": [
        {
          "output_type": "execute_result",
          "data": {
            "text/plain": [
              "OrderedDict([('NI_Scaling_Status', 'unscaled'),\n",
              "             ('NI_Number_Of_Scales', 3),\n",
              "             ('NI_Scale[1]_Scale_Type', 'Polynomial'),\n",
              "             ('NI_Scale[1]_Polynomial_Coefficients_Size', 4),\n",
              "             ('NI_Scale[1]_Polynomial_Coefficients[0]', 3717.2217387015417),\n",
              "             ('NI_Scale[1]_Polynomial_Coefficients[1]', 6.585674458677389),\n",
              "             ('NI_Scale[1]_Polynomial_Coefficients[2]', 1.427913774635689e-09),\n",
              "             ('NI_Scale[1]_Polynomial_Coefficients[3]',\n",
              "              1.0763380172505354e-13),\n",
              "             ('NI_Scale[1]_Polynomial_Input_Source', 0),\n",
              "             ('NI_Scale[2]_Scale_Type', 'Thermocouple'),\n",
              "             ('NI_Scale[2]_Thermocouple_Thermocouple_Type', 10073),\n",
              "             ('NI_Scale[2]_Thermocouple_Scaling_Direction', 0),\n",
              "             ('NI_Scale[2]_Thermocouple_Input_Source', 1),\n",
              "             ('NI_ChannelName', 'Dev1/ai0'),\n",
              "             ('unit_string', 'Deg C'),\n",
              "             ('NI_UnitDescription', 'Deg C'),\n",
              "             ('wf_start_time', numpy.datetime64('2020-07-22T13:51:03.835663')),\n",
              "             ('wf_increment', 0.001),\n",
              "             ('wf_start_offset', 0.0),\n",
              "             ('wf_samples', 1)])"
            ]
          },
          "metadata": {
            "tags": []
          },
          "execution_count": 13
        }
      ]
    },
    {
      "cell_type": "code",
      "metadata": {
        "id": "wnaSE2tRXTYV",
        "colab_type": "code",
        "colab": {
          "base_uri": "https://localhost:8080/",
          "height": 563
        },
        "outputId": "5a7be62c-b51b-4dc9-fc33-0406cac01deb"
      },
      "source": [
        "pt=slice(1,3000) # Zeitskala ist * 0.1s\n",
        "plt.figure(figsize=(16,9))\n",
        "plt.plot(time_array,channel_data,label='temp')\n",
        "#plt.xlim([0,300])\n",
        "#plt.ylim([0.9,1.5])\n",
        "plt.xlabel('time [s]')\n",
        "plt.ylabel('Data')\n",
        "plt.legend()\n",
        "plt.show()"
      ],
      "execution_count": 16,
      "outputs": [
        {
          "output_type": "display_data",
          "data": {
            "image/png": "[encoded data removed]",
            "text/plain": [
              "<Figure size 1152x648 with 1 Axes>"
            ]
          },
          "metadata": {
            "tags": []
          }
        }
      ]
    },
    {
      "cell_type": "code",
      "metadata": {
        "id": "BQLQJFKqXeS9",
        "colab_type": "code",
        "colab": {}
      },
      "source": [
        ""
      ],
      "execution_count": null,
      "outputs": []
    }
  ]
}